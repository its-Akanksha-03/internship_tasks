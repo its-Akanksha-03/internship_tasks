{
 "cells": [
  {
   "cell_type": "code",
   "execution_count": null,
   "id": "41db124b-d1e4-40ae-b20e-26a394c188ec",
   "metadata": {},
   "outputs": [
    {
     "name": "stdout",
     "output_type": "stream",
     "text": [
      "Hello! I'm ChatBot. How can I assist you today?\n",
      "Type 'exit' to end the chat or 'help' for a list of commands.\n"
     ]
    }
   ],
   "source": [
    "import time\n",
    "import random\n",
    "\n",
    "# Sample responses for different categories\n",
    "responses = {\n",
    "    \"greeting\": [\"Hello! How can I assist you today?\", \"Hi there! What can I do for you?\", \"Greetings! How may I help you?\"],\n",
    "    \"reminder\": [\"Got it! I've set your reminder for\", \"Sure! I'll remind you to\", \"Reminder noted for\"],\n",
    "    \"weather\": [\"It's sunny today!\", \"Expect rain in the afternoon.\", \"The weather is perfect for a walk!\"],\n",
    "    \"joke\": [\"Why did the scarecrow win an award? Because he was outstanding in his field!\", \n",
    "             \"I told my computer I needed a break, and now it won't stop sending me Kit-Kat ads!\"],\n",
    "    \"farewell\": [\"Goodbye! Have a great day!\", \"See you later! Take care!\", \"Farewell! I'm here if you need me.\"]\n",
    "}\n",
    "\n",
    "def chatbot():\n",
    "    print(\"Hello! I'm ChatBot. How can I assist you today?\")\n",
    "    print(\"Type 'exit' to end the chat or 'help' for a list of commands.\")\n",
    "\n",
    "    reminders = []  # To store reminders\n",
    "\n",
    "    while True:\n",
    "        user_input = input(\"\\nYou: \")\n",
    "\n",
    "        if user_input.lower() == 'exit':\n",
    "            print(\"ChatBot: Goodbye!\")\n",
    "            break\n",
    "        elif user_input.lower() == 'help':\n",
    "            print(\"ChatBot: Here are some things I can help with:\")\n",
    "            print(\" - Say hello (e.g., 'hello', 'hi')\")\n",
    "            print(\" - Set a reminder (e.g., 'remind me to buy milk')\")\n",
    "            print(\" - Ask about the weather (e.g., 'what's the weather?')\")\n",
    "            print(\" - Tell me a joke (e.g., 'tell me a joke')\")\n",
    "            print(\" - Type 'exit' to end the chat.\")\n",
    "            continue\n",
    "\n",
    "        if \"hello\" in user_input.lower() or \"hi\" in user_input.lower():\n",
    "            print(\"ChatBot:\", random.choice(responses[\"greeting\"]))\n",
    "        elif \"remind me to\" in user_input.lower():\n",
    "            reminder = user_input.lower().split(\"remind me to\")[-1].strip()\n",
    "            reminders.append(reminder)\n",
    "            print(f\"ChatBot: {random.choice(responses['reminder'])} '{reminder}'.\")\n",
    "        elif \"weather\" in user_input.lower():\n",
    "            print(\"ChatBot:\", random.choice(responses[\"weather\"]))\n",
    "        elif \"joke\" in user_input.lower():\n",
    "            print(\"ChatBot:\", random.choice(responses[\"joke\"]))\n",
    "        elif \"what can you do\" in user_input.lower():\n",
    "            print(\"ChatBot: I can greet you, set reminders, tell you jokes, and more!\")\n",
    "        elif \"goodbye\" in user_input.lower() or \"bye\" in user_input.lower():\n",
    "            print(\"ChatBot:\", random.choice(responses[\"farewell\"]))\n",
    "            break\n",
    "        else:\n",
    "            print(\"ChatBot: I'm sorry, I didn't understand that.\")\n",
    "\n",
    "# Start the chatbot\n",
    "chatbot()\n"
   ]
  },
  {
   "cell_type": "code",
   "execution_count": null,
   "id": "81dd8b57-a30c-4eaa-83aa-d86eeaa7eb8b",
   "metadata": {},
   "outputs": [],
   "source": []
  }
 ],
 "metadata": {
  "kernelspec": {
   "display_name": "Python 3 (ipykernel)",
   "language": "python",
   "name": "python3"
  },
  "language_info": {
   "codemirror_mode": {
    "name": "ipython",
    "version": 3
   },
   "file_extension": ".py",
   "mimetype": "text/x-python",
   "name": "python",
   "nbconvert_exporter": "python",
   "pygments_lexer": "ipython3",
   "version": "3.11.7"
  }
 },
 "nbformat": 4,
 "nbformat_minor": 5
}
