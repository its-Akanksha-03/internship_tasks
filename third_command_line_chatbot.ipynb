{
 "cells": [
  {
   "cell_type": "code",
   "execution_count": 1,
   "id": "c8d95892-8895-4135-9396-eb97641c1a4e",
   "metadata": {},
   "outputs": [
    {
     "name": "stdout",
     "output_type": "stream",
     "text": [
      "Hello! I'm ChatBot. How can I assist you today?\n",
      "Type 'exit' to end the chat.\n"
     ]
    },
    {
     "name": "stdin",
     "output_type": "stream",
     "text": [
      "\n",
      "You:  Hi\n"
     ]
    },
    {
     "name": "stdout",
     "output_type": "stream",
     "text": [
      "ChatBot: Hello! How can I help you today?\n"
     ]
    },
    {
     "name": "stdin",
     "output_type": "stream",
     "text": [
      "\n",
      "You:  What is your name?\n"
     ]
    },
    {
     "name": "stdout",
     "output_type": "stream",
     "text": [
      "ChatBot: I am ChatBot, your friendly assistant!\n"
     ]
    },
    {
     "name": "stdin",
     "output_type": "stream",
     "text": [
      "\n",
      "You:  What is the weather like today?\n"
     ]
    },
    {
     "name": "stdout",
     "output_type": "stream",
     "text": [
      "ChatBot: I'm sorry, I didn't understand that.\n"
     ]
    },
    {
     "name": "stdin",
     "output_type": "stream",
     "text": [
      "\n",
      "You:  exit\n"
     ]
    },
    {
     "name": "stdout",
     "output_type": "stream",
     "text": [
      "ChatBot: Goodbye!\n"
     ]
    }
   ],
   "source": [
    "import time\n",
    "\n",
    "def greet_user():\n",
    "    print(\"Hello! I'm ChatBot. How can I assist you today?\")\n",
    "    print(\"Type 'exit' to end the chat.\")\n",
    "\n",
    "def get_user_input():\n",
    "    return input(\"\\nYou: \")\n",
    "\n",
    "def respond_to_greeting(user_input):\n",
    "    greetings = ['hi', 'hello', 'hey', 'greetings']\n",
    "    if any(greeting in user_input.lower() for greeting in greetings):\n",
    "        return \"Hello! How can I help you today?\"\n",
    "    return None\n",
    "\n",
    "def respond_to_farewell(user_input):\n",
    "    farewells = ['bye', 'goodbye', 'see you later']\n",
    "    if any(farewell in user_input.lower() for farewell in farewells):\n",
    "        return \"Goodbye! Have a great day!\"\n",
    "    return None\n",
    "\n",
    "def set_reminder(user_input):\n",
    "    if \"remind me to\" in user_input.lower():\n",
    "        reminder = user_input.lower().split(\"remind me to\")[-1].strip()\n",
    "        print(f\"Reminder set for: '{reminder}'\")\n",
    "        time.sleep(1)  # Simulate setting a reminder\n",
    "        return f\"Reminder '{reminder}' has been set.\"\n",
    "    return None\n",
    "\n",
    "def answer_predefined_questions(user_input):\n",
    "    questions = {\n",
    "        \"what is your name\": \"I am ChatBot, your friendly assistant!\",\n",
    "        \"how are you\": \"I'm just a program, but thanks for asking!\",\n",
    "        \"what can you do\": \"I can chat with you, set reminders, and answer basic questions.\"\n",
    "    }\n",
    "    for question, answer in questions.items():\n",
    "        if question in user_input.lower():\n",
    "            return answer\n",
    "    return None\n",
    "\n",
    "def chatbot():\n",
    "    greet_user()\n",
    "    while True:\n",
    "        user_input = get_user_input()\n",
    "\n",
    "        if user_input.lower() == 'exit':\n",
    "            print(\"ChatBot: Goodbye!\")\n",
    "            break\n",
    "\n",
    "        response = (\n",
    "            respond_to_greeting(user_input) or\n",
    "            respond_to_farewell(user_input) or\n",
    "            set_reminder(user_input) or\n",
    "            answer_predefined_questions(user_input) or\n",
    "            \"I'm sorry, I didn't understand that.\"\n",
    "        )\n",
    "\n",
    "        print(f\"ChatBot: {response}\")\n",
    "\n",
    "# Start the chatbot\n",
    "chatbot()\n"
   ]
  },
  {
   "cell_type": "code",
   "execution_count": null,
   "id": "0a0364ed-6caa-4adf-8118-56c32113f89c",
   "metadata": {},
   "outputs": [],
   "source": []
  }
 ],
 "metadata": {
  "kernelspec": {
   "display_name": "Python 3 (ipykernel)",
   "language": "python",
   "name": "python3"
  },
  "language_info": {
   "codemirror_mode": {
    "name": "ipython",
    "version": 3
   },
   "file_extension": ".py",
   "mimetype": "text/x-python",
   "name": "python",
   "nbconvert_exporter": "python",
   "pygments_lexer": "ipython3",
   "version": "3.11.7"
  }
 },
 "nbformat": 4,
 "nbformat_minor": 5
}
